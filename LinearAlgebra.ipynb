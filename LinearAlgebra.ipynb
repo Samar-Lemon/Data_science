{
 "cells": [
  {
   "cell_type": "markdown",
   "metadata": {},
   "source": [
    "## MATRIX OPERATION\n"
   ]
  },
  {
   "cell_type": "code",
   "execution_count": null,
   "metadata": {},
   "outputs": [
    {
     "name": "stdout",
     "output_type": "stream",
     "text": [
      " A + B: [[ 3  1]\n",
      " [-3  7]]\n",
      "A.B: [[ 5  0]\n",
      " [-9 12]]\n",
      "3A - 2B [[ 4 -7]\n",
      " [ 6  1]]\n"
     ]
    }
   ],
   "source": [
    "import numpy as np\n",
    "\n",
    "A = np.array([[2, -1], [0, 3]])\n",
    "B = np.array([[1, 2], [-3, 4]])\n",
    "sum = A + B\n",
    "AdotB = np.dot(A, B)\n",
    "\n",
    "# 3A - 2B \n",
    "sub= 3 * A - 2 * B\n",
    "print(\" A + B:\",sum)\n",
    "print(\"A.B:\",AdotB)\n",
    "print(\"3A - 2B\",sub)"
   ]
  },
  {
   "cell_type": "markdown",
   "metadata": {},
   "source": [
    "### Determinant and inverse\n",
    "\n"
   ]
  },
  {
   "cell_type": "code",
   "execution_count": 3,
   "metadata": {},
   "outputs": [
    {
     "name": "stdout",
     "output_type": "stream",
     "text": [
      "Determinant: 6.0\n",
      "Inverse: [[0.5        0.16666667]\n",
      " [0.         0.33333333]]\n"
     ]
    }
   ],
   "source": [
    "det_A = np.linalg.det(A)\n",
    "print(\"Determinant:\",det_A)\n",
    "if det_A != 0:\n",
    "    A_inverse = np.linalg.inv(A)\n",
    "    print(\"Inverse:\",A_inverse)\n",
    "else:\n",
    "    print(\"Inverse does not exist\")"
   ]
  },
  {
   "cell_type": "markdown",
   "metadata": {},
   "source": [
    "## Eigen values and Eigen vector\n"
   ]
  },
  {
   "cell_type": "code",
   "execution_count": 4,
   "metadata": {},
   "outputs": [
    {
     "name": "stdout",
     "output_type": "stream",
     "text": [
      "Eigenvalue:  [3. 2.]\n",
      "Eigenvector:  [[ 0.70710678 -0.4472136 ]\n",
      " [-0.70710678  0.89442719]]\n"
     ]
    }
   ],
   "source": [
    "C = [[4, 1], [-2, 1]]\n",
    "evalue, evector = np.linalg.eig(C)\n",
    "print(\"Eigenvalue: \", evalue)\n",
    "print(\"Eigenvector: \", evector)"
   ]
  },
  {
   "cell_type": "markdown",
   "metadata": {},
   "source": [
    "## Cars"
   ]
  },
  {
   "cell_type": "code",
   "execution_count": 5,
   "metadata": {},
   "outputs": [
    {
     "name": "stdout",
     "output_type": "stream",
     "text": [
      "The price of car 3 is  40.00000000000002\n"
     ]
    }
   ],
   "source": [
    "mat_Car = np.array([[4, 1.5, 100],\n",
    "         [6, 2.0, 150]]) #dataset for car1 and car2\n",
    "mat_price = np.array([20, 30]) #price for car1 and car2\n",
    "test= np.linalg.pinv(mat_Car) @ mat_price\n",
    "car3 = np.array([8, 3.0, 200])\n",
    "car3_price = car3 @ test\n",
    "print(\"The price of car 3 is \", car3_price)"
   ]
  },
  {
   "cell_type": "markdown",
   "metadata": {},
   "source": [
    "# DISCUSSION  AND CONCLUSION"
   ]
  },
  {
   "cell_type": "markdown",
   "metadata": {},
   "source": [
    "### In this lab, we walked thorugh linear algebra through continous use of matrix. We performed different matrix operation including addition, multiplication,dot product, cross product, determinant, inverses and eigen values. A sample of car was used to analyze the pattern of car and its price based on its dimension factors. The main calculation was done using numpy library which used inbuilt function to calculate different  operation.\n",
    "\n",
    "### To conclude in this lab we familiarized with the concept of linear algebrea and its homongeneous property to reduce its self for complex calculations by performing and analyzing multiple simple codes using the numpy library."
   ]
  }
 ],
 "metadata": {
  "kernelspec": {
   "display_name": "Python 3",
   "language": "python",
   "name": "python3"
  },
  "language_info": {
   "codemirror_mode": {
    "name": "ipython",
    "version": 3
   },
   "file_extension": ".py",
   "mimetype": "text/x-python",
   "name": "python",
   "nbconvert_exporter": "python",
   "pygments_lexer": "ipython3",
   "version": "3.12.8"
  }
 },
 "nbformat": 4,
 "nbformat_minor": 2
}
