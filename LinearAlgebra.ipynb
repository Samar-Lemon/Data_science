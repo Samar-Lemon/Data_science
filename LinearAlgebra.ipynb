{
 "cells": [
  {
   "cell_type": "markdown",
   "metadata": {},
   "source": [
    "## MATRIX OPERATION\n"
   ]
  },
  {
   "cell_type": "code",
   "execution_count": 2,
   "metadata": {},
   "outputs": [
    {
     "name": "stdout",
     "output_type": "stream",
     "text": [
      " A + B: [[ 3  1]\n",
      " [-3  7]]\n",
      "A.B: [[ 5  0]\n",
      " [-9 12]]\n",
      "3A - 2B [[ 4 -7]\n",
      " [ 6  1]]\n"
     ]
    }
   ],
   "source": [
    "import numpy as np\n",
    "\n",
    "# Define the matrices\n",
    "A = np.array([[2, -1], [0, 3]])\n",
    "B = np.array([[1, 2], [-3, 4]])\n",
    "sum = A + B\n",
    "AdotB = np.dot(A, B)\n",
    "\n",
    "# 3A - 2B \n",
    "sub= 3 * A - 2 * B\n",
    "print(\" A + B:\",sum)\n",
    "print(\"A.B:\",AdotB)\n",
    "print(\"3A - 2B\",sub)"
   ]
  },
  {
   "cell_type": "markdown",
   "metadata": {},
   "source": [
    "### Determinant and inverse\n",
    "\n"
   ]
  },
  {
   "cell_type": "code",
   "execution_count": 3,
   "metadata": {},
   "outputs": [
    {
     "name": "stdout",
     "output_type": "stream",
     "text": [
      "Inverse: [[0.5        0.16666667]\n",
      " [0.         0.33333333]]\n"
     ]
    }
   ],
   "source": [
    "det_A = np.linalg.det(A)\n",
    "if det_A != 0:\n",
    "    A_inverse = np.linalg.inv(A)\n",
    "    print(\"Inverse:\",A_inverse)\n",
    "else:\n",
    "    print(\"Inverse does not exist\")"
   ]
  }
 ],
 "metadata": {
  "kernelspec": {
   "display_name": "Python 3",
   "language": "python",
   "name": "python3"
  },
  "language_info": {
   "codemirror_mode": {
    "name": "ipython",
    "version": 3
   },
   "file_extension": ".py",
   "mimetype": "text/x-python",
   "name": "python",
   "nbconvert_exporter": "python",
   "pygments_lexer": "ipython3",
   "version": "3.12.8"
  }
 },
 "nbformat": 4,
 "nbformat_minor": 2
}
